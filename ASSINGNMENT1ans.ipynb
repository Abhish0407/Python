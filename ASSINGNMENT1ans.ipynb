{
  "nbformat": 4,
  "nbformat_minor": 0,
  "metadata": {
    "colab": {
      "provenance": []
    },
    "kernelspec": {
      "name": "python3",
      "display_name": "Python 3"
    },
    "language_info": {
      "name": "python"
    }
  },
  "cells": [
    {
      "cell_type": "code",
      "execution_count": null,
      "metadata": {
        "id": "5oPACP5U11Ml"
      },
      "outputs": [],
      "source": []
    },
    {
      "cell_type": "markdown",
      "source": [
        "# ASSINGMENT-1"
      ],
      "metadata": {
        "id": "V-2Dc6eU19vV"
      }
    },
    {
      "cell_type": "code",
      "source": [],
      "metadata": {
        "id": "dFhDhVHH2JxU"
      },
      "execution_count": null,
      "outputs": []
    },
    {
      "cell_type": "markdown",
      "source": [
        "1) What is Python, and why is it popular?\n",
        "- Python is a high-level, interpreted programming language known for its simplicity and readability. Pseudo code nature of python makes it easier to understand and learn.\n",
        "It is easy to learn and use, its is versatile, it has huge number of libraries and has huge community support which amkes it so popular.\n",
        "\n",
        "2)What is an interpreter in Python?\n",
        "- An interpreter in Python is a program that reads and executes Python code line by line, instead of compiling the entire code at once. This makes it easier to test and debug.\n",
        "\n",
        "3)What are pre-defined keywords in Python?\n",
        "- Pre-defined keywords in Python are reserved words that have special meaning in the language. They can't be used as variable names because they are part of Python's syntax. ex- if, else, for, while, return, etc.\n",
        "\n",
        "4)Can keywords be used as variable names?\n",
        "-  No, keywords cannot be used as variable names in Python.\n",
        "\n",
        "5)What is mutability in Python\n",
        "- The ability of an object to be changed after it is created is called Mutability. ex- list, dict, set\n",
        "\n",
        "6)Why are lists mutable, but tuples are immutable\n",
        "- Lists are mutable because they are designed to store and modify data dynamically — you can add, remove, or change elements.\n",
        "\n",
        "Tuples are immutable to ensure data integrity and safety — once created, they cannot be changed, making them ideal for fixed or constant data.\n",
        "\n",
        "7] What is the difference between “==” and “is” operators in Python\n",
        "- == checks vequality of two objects while the \"is\" checks identity of two objects; if they are same or not.\n",
        "\n",
        "8] What are logical operators in Python\n",
        "- Logical operators in Python are used to combine conditional statements. The three main ones are:\n",
        "\n",
        "and: Returns True if both conditions are true.\n",
        "\n",
        "or: Returns True if at least one condition is true.\n",
        "\n",
        "not: Reverses the boolean value. (true becomes false and vice versa)\n",
        "\n",
        "9] What is type casting in Python\n",
        "- Type casting in Python is the process of converting one data type into another. There are two types of typecasting- implicit and explicit.\n",
        "\n",
        "10] What is the difference between implicit and explicit type casting\n",
        "- Implicit Type Casting: Python automatically converts a smaller data type to a larger one when no data loss is possible.\n",
        "\n",
        "Ex: Integer to float\n",
        "x = 10      # int\n",
        "y = 5.5     # float\n",
        "result = x + y  # result is float (15.5)\n",
        "\n",
        "Explicit Type casting\n",
        "The programmer manually converts one data type to another using functions like int(), float(), str(), etc.\n",
        "\n",
        "Example: String to integer.\n",
        "x = \"123\"\n",
        "y = int(x)  # converts string to integer\n",
        "\n",
        "11] What is the purpose of conditional statements in Python\n",
        "- Conditional statements in Python control the flow of execution based on certain conditions. They allow the program to make decisions and execute specific blocks of code depending on whether a condition is true or false.\n",
        "\n",
        "12] How does the elif statement work\n",
        "- The elif (short for \"else if\") statement allows you to check multiple conditions in sequence. If the condition in the if statement is false, Python checks the condition in the elif statement.\n",
        "ex-age = 20\n",
        "\n",
        "    if age < 18:\n",
        "    print(\"Minor\")\n",
        "\n",
        "    elif age >= 18 and age < 21:\n",
        "    print(\"Young Adult\")\n",
        "\n",
        "    else:\n",
        "    print(\"Adult\")\n",
        "\n",
        "13] What is the difference between for and while loops\n",
        "\n",
        "- For Loop: Used when the number of iterations is known or fixed. Iterates over a sequence (e.g., list, tuple, range).\n",
        "\n",
        "        ex- for i in range(5):  # iterates 5 times (0 to 4)\n",
        "         print(i)\n",
        "\n",
        "- While Loop: Used when the number of iterations is not known in advance, and continues as long as the condition is true.\n",
        "           ex- i = 0\n",
        "            while i < 5:  # runs as long as the condition is true\n",
        "             print(i)\n",
        "             i += 1\n",
        "\n",
        "14] Describe a scenario where a while loop is more suitable than a for loop.\n",
        "- Scenario: Simulating a Game with Ongoing Turns\n",
        "Imagine you're creating a simple game where the player continues to take turns until their score reaches a certain target.\n",
        "ex-             score = 0\n",
        "                target_score = 100\n",
        "\n",
        "                while score < target_score:\n",
        "                score += int(input(\"Enter points for your turn: \"))\n",
        "                 print(f\"Current score: {score}\")\n",
        "                 print(\"Congratulations! You've reached the target score!\")\n",
        "\n",
        "\n",
        "\n",
        "    \n",
        "\n",
        "\n"
      ],
      "metadata": {
        "id": "uX6bQ9g72KhF"
      }
    },
    {
      "cell_type": "markdown",
      "source": [
        "Practical Questions"
      ],
      "metadata": {
        "id": "M6HjkC8MA6bY"
      }
    },
    {
      "cell_type": "code",
      "source": [
        "# 1] Write a Python program to print \"Hello, World!\"\n",
        "print(\"Hello, World!\")"
      ],
      "metadata": {
        "colab": {
          "base_uri": "https://localhost:8080/"
        },
        "id": "qr-cpQNzAzzJ",
        "outputId": "f1660b72-c618-4dec-c52c-dfdeaf2a87cc"
      },
      "execution_count": 1,
      "outputs": [
        {
          "output_type": "stream",
          "name": "stdout",
          "text": [
            "Hello, World!\n"
          ]
        }
      ]
    },
    {
      "cell_type": "code",
      "source": [
        "# 2] Write a Python program that displays your name and age\n",
        "name = input(\"Enter your name: \")\n",
        "age = input(\"Enter your age: \")\n",
        "print(f\"Your name is {name} and your age is {age}\")"
      ],
      "metadata": {
        "colab": {
          "base_uri": "https://localhost:8080/"
        },
        "id": "Csp6FnQQBU0T",
        "outputId": "93411a64-7416-44e4-9922-21c63f654125"
      },
      "execution_count": 2,
      "outputs": [
        {
          "output_type": "stream",
          "name": "stdout",
          "text": [
            "Enter your name: Abhishek Raj\n",
            "Enter your age: 24\n",
            "Your name is Abhishek Raj and your age is 24\n"
          ]
        }
      ]
    },
    {
      "cell_type": "code",
      "source": [
        "# 3] Write code to print all the pre-defined keywords in Python using the keyword library\n",
        "import keyword\n",
        "\n",
        "print(\"Python Keywords:\")\n",
        "print(keyword.kwlist)"
      ],
      "metadata": {
        "colab": {
          "base_uri": "https://localhost:8080/"
        },
        "id": "h2go6VHxB5r5",
        "outputId": "140aa10f-76a2-4163-c574-a428e0315e4f"
      },
      "execution_count": 3,
      "outputs": [
        {
          "output_type": "stream",
          "name": "stdout",
          "text": [
            "Python Keywords:\n",
            "['False', 'None', 'True', 'and', 'as', 'assert', 'async', 'await', 'break', 'class', 'continue', 'def', 'del', 'elif', 'else', 'except', 'finally', 'for', 'from', 'global', 'if', 'import', 'in', 'is', 'lambda', 'nonlocal', 'not', 'or', 'pass', 'raise', 'return', 'try', 'while', 'with', 'yield']\n"
          ]
        }
      ]
    },
    {
      "cell_type": "code",
      "source": [
        "# 4] Write a program that checks if a given word is a Python keyword.\n",
        "import keyword\n",
        "\n",
        "word = input(\"Enter a word: \")\n",
        "\n",
        "if keyword.iskeyword(word):\n",
        "    print(f\"{word} is a Python keyword.\")\n",
        "else:\n",
        "    print(f\"{word} is not a Python keyword.\")"
      ],
      "metadata": {
        "colab": {
          "base_uri": "https://localhost:8080/"
        },
        "id": "4ftZJjp6CRlB",
        "outputId": "84fb5a87-407c-4241-c98a-d44d17e5abef"
      },
      "execution_count": 5,
      "outputs": [
        {
          "output_type": "stream",
          "name": "stdout",
          "text": [
            "Enter a word: global\n",
            "global is a Python keyword.\n"
          ]
        }
      ]
    },
    {
      "cell_type": "code",
      "source": [
        "# 5]  Create a list and tuple in Python, and demonstrate how attempting to change an element works differently for each.\n",
        "my_list = [1, 2, 3]\n",
        "my_tuple = (1, 2, 3)\n",
        "\n",
        "# Modifying list\n",
        "my_list[0] = 10\n",
        "print(\"Modified list:\", my_list)\n",
        "\n",
        "\n",
        "\n"
      ],
      "metadata": {
        "colab": {
          "base_uri": "https://localhost:8080/"
        },
        "id": "uKIru_cCCzuq",
        "outputId": "8cf00900-6a1b-43a4-a6e9-b66095ceedb1"
      },
      "execution_count": 7,
      "outputs": [
        {
          "output_type": "stream",
          "name": "stdout",
          "text": [
            "Modified list: [10, 2, 3]\n"
          ]
        }
      ]
    },
    {
      "cell_type": "code",
      "source": [
        "my_list = [1, 2, 3]\n",
        "my_tuple = (1, 2, 3)\n",
        "\n",
        "# Modifying tuple\n",
        "my_tuple[0] = 10  # This will raise an error\n"
      ],
      "metadata": {
        "colab": {
          "base_uri": "https://localhost:8080/",
          "height": 176
        },
        "id": "lTRAx496Dzi8",
        "outputId": "e301974e-d3b4-4ea6-aa78-603950cbf9fb"
      },
      "execution_count": 8,
      "outputs": [
        {
          "output_type": "error",
          "ename": "TypeError",
          "evalue": "'tuple' object does not support item assignment",
          "traceback": [
            "\u001b[0;31m---------------------------------------------------------------------------\u001b[0m",
            "\u001b[0;31mTypeError\u001b[0m                                 Traceback (most recent call last)",
            "\u001b[0;32m<ipython-input-8-6e323f56ff0e>\u001b[0m in \u001b[0;36m<cell line: 0>\u001b[0;34m()\u001b[0m\n\u001b[1;32m      3\u001b[0m \u001b[0;34m\u001b[0m\u001b[0m\n\u001b[1;32m      4\u001b[0m \u001b[0;31m# Modifying tuple\u001b[0m\u001b[0;34m\u001b[0m\u001b[0;34m\u001b[0m\u001b[0m\n\u001b[0;32m----> 5\u001b[0;31m \u001b[0mmy_tuple\u001b[0m\u001b[0;34m[\u001b[0m\u001b[0;36m0\u001b[0m\u001b[0;34m]\u001b[0m \u001b[0;34m=\u001b[0m \u001b[0;36m10\u001b[0m  \u001b[0;31m# This will raise an error\u001b[0m\u001b[0;34m\u001b[0m\u001b[0;34m\u001b[0m\u001b[0m\n\u001b[0m",
            "\u001b[0;31mTypeError\u001b[0m: 'tuple' object does not support item assignment"
          ]
        }
      ]
    },
    {
      "cell_type": "code",
      "source": [
        "# 6] Write a function to demonstrate the behavior of mutable and immutable arguments.\n",
        "def modify_args(a, b):\n",
        "    a += 1           # 'a' is immutable (int)\n",
        "    b.append(4)      # 'b' is mutable (list)\n",
        "    print(\"Inside function:\", a, b)\n",
        "\n",
        "# Immutable int\n",
        "x = 5\n",
        "# Mutable list\n",
        "y = [1, 2, 3]\n",
        "\n",
        "modify_args(x, y)\n",
        "\n",
        "print(\"Outside function:\", x, y)\n"
      ],
      "metadata": {
        "colab": {
          "base_uri": "https://localhost:8080/"
        },
        "id": "meVRknl5EBPJ",
        "outputId": "42c33d80-606a-4bec-8914-c380a91cdf53"
      },
      "execution_count": 9,
      "outputs": [
        {
          "output_type": "stream",
          "name": "stdout",
          "text": [
            "Inside function: 6 [1, 2, 3, 4]\n",
            "Outside function: 5 [1, 2, 3, 4]\n"
          ]
        }
      ]
    },
    {
      "cell_type": "code",
      "source": [
        "# 7] Write a program that performs basic arithmetic operations on two user-input numbers\n",
        "num1 = float(input(\"Enter first number: \"))\n",
        "num2 = float(input(\"Enter second number: \"))\n",
        "\n",
        "print(\"Addition:\", num1 + num2)\n",
        "print(\"Subtraction:\", num1 - num2)\n",
        "print(\"Multiplication:\", num1 * num2)\n",
        "print(\"Division:\", num1 / num2 if num2 != 0 else \"Cannot divide by zero\")"
      ],
      "metadata": {
        "colab": {
          "base_uri": "https://localhost:8080/"
        },
        "id": "dsWSNSq4Eucy",
        "outputId": "90accf53-b27c-46af-a474-58e51b0c2265"
      },
      "execution_count": 10,
      "outputs": [
        {
          "output_type": "stream",
          "name": "stdout",
          "text": [
            "Enter first number: 2.3\n",
            "Enter second number: 7\n",
            "Addition: 9.3\n",
            "Subtraction: -4.7\n",
            "Multiplication: 16.099999999999998\n",
            "Division: 0.32857142857142857\n"
          ]
        }
      ]
    },
    {
      "cell_type": "code",
      "source": [
        "# 8] Write a program to demonstrate the use of logical operators.\n",
        "a = float(input(\"Enter first number: \"))\n",
        "b = float(input(\"Enter second number: \"))\n",
        "print(\"Both numbers are positive:\", a > 0 and b > 0)\n",
        "print(\"At least one number is positive:\", a > 0 or b > 0)\n",
        "print(\"First number is NOT positive:\", not a > 0)"
      ],
      "metadata": {
        "colab": {
          "base_uri": "https://localhost:8080/"
        },
        "id": "3WY6IrxBFMtL",
        "outputId": "5e6b8fb4-6ad2-4901-ec4e-3479c4b781d6"
      },
      "execution_count": 13,
      "outputs": [
        {
          "output_type": "stream",
          "name": "stdout",
          "text": [
            "Enter first number: 23\n",
            "Enter second number: 21\n",
            "Both numbers are positive: True\n",
            "At least one number is positive: True\n",
            "First number is NOT positive: False\n"
          ]
        }
      ]
    },
    {
      "cell_type": "code",
      "source": [
        "# 9] Write a Python program to convert user input from string to integer, float, and boolean types\n",
        "# Taking string input\n",
        "user_input = input(\"Enter a value: \")\n",
        "\n",
        "# Converting to integer\n",
        "try:\n",
        "    int_val = int(user_input)\n",
        "    print(\"Integer:\", int_val)\n",
        "except ValueError:\n",
        "    print(\"Cannot convert to integer.\")\n",
        "\n",
        "# Converting to float\n",
        "try:\n",
        "    float_val = float(user_input)\n",
        "    print(\"Float:\", float_val)\n",
        "except ValueError:\n",
        "    print(\"Cannot convert to float.\")\n",
        "\n",
        "# Converting to boolean\n",
        "bool_val = bool(user_input)\n",
        "print(\"Boolean:\", bool_val)"
      ],
      "metadata": {
        "colab": {
          "base_uri": "https://localhost:8080/"
        },
        "id": "v_qegmy6HAjK",
        "outputId": "7d62e26b-1616-45e5-f956-593fdc10a26a"
      },
      "execution_count": 21,
      "outputs": [
        {
          "output_type": "stream",
          "name": "stdout",
          "text": [
            "Enter a value: 23.7\n",
            "Cannot convert to integer.\n",
            "Float: 23.7\n",
            "Boolean: True\n"
          ]
        }
      ]
    },
    {
      "cell_type": "markdown",
      "source": [],
      "metadata": {
        "id": "gXwmZB9FEnXz"
      }
    },
    {
      "cell_type": "code",
      "source": [
        "# 10] Write code to demonstrate type casting with list elements.\n",
        "str_list = [\"1\", \"2\", \"3\", \"4\"]\n",
        "\n",
        "int_list = [int(i) for i in str_list]\n",
        "print(\"Integer list:\", int_list)\n",
        "\n",
        "float_list = [float(i) for i in str_list]\n",
        "print(\"Float list:\", float_list)\n",
        "\n",
        "bool_list = [bool(i) for i in str_list]\n",
        "print(\"Boolean list:\", bool_list)\n"
      ],
      "metadata": {
        "colab": {
          "base_uri": "https://localhost:8080/"
        },
        "id": "j7KKLKKcHWTD",
        "outputId": "812f279d-7f27-4d7c-ae93-24e6df5ca76d"
      },
      "execution_count": 24,
      "outputs": [
        {
          "output_type": "stream",
          "name": "stdout",
          "text": [
            "Integer list: [1, 2, 3, 4]\n",
            "Float list: [1.0, 2.0, 3.0, 4.0]\n",
            "Boolean list: [True, True, True, True]\n"
          ]
        }
      ]
    },
    {
      "cell_type": "code",
      "source": [
        "# 11] Write a program that checks if a number is positive, negative, or zero.\n",
        "num = float(input(\"Enter a number: \"))\n",
        "\n",
        "if num > 0:\n",
        "    print(\"The number is positive.\")\n",
        "elif num < 0:\n",
        "    print(\"The number is negative.\")\n",
        "else:\n",
        "    print(\"The number is zero.\")"
      ],
      "metadata": {
        "colab": {
          "base_uri": "https://localhost:8080/"
        },
        "id": "T-IH29KJH5X0",
        "outputId": "7da19457-252d-4f9b-d088-b69fb26e45c0"
      },
      "execution_count": 25,
      "outputs": [
        {
          "output_type": "stream",
          "name": "stdout",
          "text": [
            "Enter a number: -19\n",
            "The number is negative.\n"
          ]
        }
      ]
    },
    {
      "cell_type": "code",
      "source": [
        "# 12]Write a for loop to print numbers from 1 to 10.\n",
        "for i in range(1, 11):\n",
        "    print(i)"
      ],
      "metadata": {
        "colab": {
          "base_uri": "https://localhost:8080/"
        },
        "id": "K0BVdL-NILfC",
        "outputId": "d9611849-3309-422e-bbef-1d3c58ca5c64"
      },
      "execution_count": 26,
      "outputs": [
        {
          "output_type": "stream",
          "name": "stdout",
          "text": [
            "1\n",
            "2\n",
            "3\n",
            "4\n",
            "5\n",
            "6\n",
            "7\n",
            "8\n",
            "9\n",
            "10\n"
          ]
        }
      ]
    },
    {
      "cell_type": "code",
      "source": [
        "# 13] Write a Python program to find the sum of all even numbers between 1 and 50\n",
        "sum_even = 0\n",
        "for i in range(2, 51, 2):\n",
        "    sum_even += i\n",
        "print(\"Sum of even numbers between 1 and 50:\", sum_even)"
      ],
      "metadata": {
        "colab": {
          "base_uri": "https://localhost:8080/"
        },
        "id": "4k9-LG9xIU7y",
        "outputId": "624ec586-1e41-481a-c618-7c1f649d4e8c"
      },
      "execution_count": 27,
      "outputs": [
        {
          "output_type": "stream",
          "name": "stdout",
          "text": [
            "Sum of even numbers between 1 and 50: 650\n"
          ]
        }
      ]
    },
    {
      "cell_type": "code",
      "source": [
        "# 14] Write a program to reverse a string using a while loop.\n",
        "string = input(\"Enter a string: \")\n",
        "\n",
        "reversed_string = \"\"\n",
        "index = len(string) - 1\n",
        "\n",
        "while index >= 0:\n",
        "    reversed_string += string[index]\n",
        "    index -= 1\n",
        "\n",
        "print(\"Reversed string:\", reversed_string)"
      ],
      "metadata": {
        "colab": {
          "base_uri": "https://localhost:8080/"
        },
        "id": "M7Hg2CF9IrRr",
        "outputId": "33814ef3-8763-439c-b5ba-74810bc03747"
      },
      "execution_count": 28,
      "outputs": [
        {
          "output_type": "stream",
          "name": "stdout",
          "text": [
            "Enter a string: pwskills\n",
            "Reversed string: sllikswp\n"
          ]
        }
      ]
    },
    {
      "cell_type": "code",
      "source": [
        "# 15] Write a Python program to calculate the factorial of a number provided by the user using a while loop.\n",
        "num = int(input(\"Enter a number: \"))\n",
        "\n",
        "factorial = 1\n",
        "current = 1\n",
        "\n",
        "while current <= num:\n",
        "    factorial *= current\n",
        "    current += 1\n",
        "\n",
        "print(f\"The factorial of {num} is: {factorial}\")"
      ],
      "metadata": {
        "colab": {
          "base_uri": "https://localhost:8080/"
        },
        "id": "_7dvHaEUJSug",
        "outputId": "06bdc601-ef36-4eba-f529-afb5b2e1aff0"
      },
      "execution_count": 29,
      "outputs": [
        {
          "output_type": "stream",
          "name": "stdout",
          "text": [
            "Enter a number: 5\n",
            "The factorial of 5 is: 120\n"
          ]
        }
      ]
    }
  ]
}