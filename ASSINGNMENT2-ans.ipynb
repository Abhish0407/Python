{
  "nbformat": 4,
  "nbformat_minor": 0,
  "metadata": {
    "colab": {
      "provenance": []
    },
    "kernelspec": {
      "name": "python3",
      "display_name": "Python 3"
    },
    "language_info": {
      "name": "python"
    }
  },
  "cells": [
    {
      "cell_type": "code",
      "execution_count": null,
      "metadata": {
        "id": "6ycKKvKM-vHd"
      },
      "outputs": [],
      "source": []
    },
    {
      "cell_type": "markdown",
      "source": [
        "1] What are data structures, and why are they important\n",
        "- Data structures are ways to store and organize data. They're important because they make data access, processing, and storage efficient.\n",
        "\n",
        "2] Explain the difference between mutable and immutable data types with examples\n",
        "- Mutable data types can be changed after creation.\n",
        "      a = [1, 2, 3]\n",
        "      a[0]= 10      # Works\n",
        "Immutable data types cannot be changed once created.\n",
        "      b = (1, 2, 3)\n",
        "      b[0] = 10  # Error\n",
        "\n",
        "3] What are the main differences between lists and tuples in Python\n",
        "- List are Mutable, It Uses square brackets [ ]. The execution is slower than tuples, Its Best used for dynamic data.\n",
        "- Tuple are Immutable, It Uses round brackets ( ).It is faster than lists,It is Best for fixed data.\n",
        "\n",
        "4] Describe how dictionaries store data.\n",
        "- Dictionaries in Python store data as key-value pairs inside { }.\n",
        "Each key maps to a value, allowing fast data lookup.\n",
        "\n",
        "5] Why might you use a set instead of a list in Python\n",
        "- We use a set instead of a list when we want only unique items (no duplicates).we  need fast membership checks (e.g., x in set is faster than x in list).\n",
        "\n",
        "6] What is a string in Python, and how is it different from a list\n",
        "- A string is a sequence of characters (text), enclosed in quotes (\" \" or ' ').\n",
        "String are immutable, holds only characters whereas List are mutable, holds any data types (numbers, strings, etc.)\n",
        "\n",
        "7] How do tuples ensure data integrity in Python\n",
        "- Tuples ensure data integrity in Python by being immutable, meaning once created, their elements cannot be changed, added, or removed.\n",
        "This protects the data from accidental modification, making tuples ideal for fixed collections like coordinates, dates, or configuration settings.\n",
        "\n",
        "8] What is a hash table, and how does it relate to dictionaries in Python\n",
        "- A hash table is a data structure that stores key-value pairs using a hash function to compute an index into an array, from which the desired value can be found. In Python, a dictionary is an implementation of a hash table. It uses keys' hash values to quickly look up, insert, or delete data in constant time on average.\n",
        "\n",
        "9]  Can lists contain different data types in Python\n",
        "- Yes, lists in Python can contain different data types (e.g., integers, strings, other lists, etc.) because Python is dynamically typed.\n",
        "\n",
        "10] Explain why strings are immutable in Python\n",
        "- Strings are immutable in Python to ensure:\n",
        "\n",
        "    Data integrity - prevents accidental changes.\n",
        "\n",
        "    Hashability - allows strings to be used as dictionary keys.\n",
        "\n",
        "    Performance - enables internal optimizations like interning\n",
        "\n",
        "11] What advantages do dictionaries offer over lists for certain tasks\n",
        "-  Dictionaries offer faster lookups, key based access, they offer better mapping techniques.\n",
        "\n",
        "12] Describe a scenario where using a tuple would be preferable over a list\n",
        "- Use a tuple when your data should not change.\n",
        "Example: Storing days of the week — (\"Monday\", \"Tuesday\", ...).\n",
        "Tuples are faster, immutable, and often used as dictionary keys.\n",
        "\n",
        "13] How do sets handle duplicate values in Python\n",
        "- Sets automatically remove duplicates.\n",
        "      s = {1, 2, 2, 3}\n",
        "      print(s)  # Output: {1, 2, 3}\n",
        "\n",
        "14] How does the “in” keyword work differently for lists and dictionaries\n",
        "- For lists, in checks if a value exists.\n",
        "      2 in [1, 2, 3]  # True\n",
        "\n",
        "  For dictionaries, in checks if a key exists (not value).\n",
        "      'a' in {'a': 1, 'b': 2}  # True\n",
        "\n",
        "15] Can you modify the elements of a tuple? Explain why or why not\n",
        "- No, you cannot modify tuple elements because tuples are immutable.\n",
        "Once created, their contents cannot be changed, added, or removed, ensuring data integrity.\n",
        "\n",
        "16] What is a nested dictionary, and give an example of its use case\n",
        "- A nested dictionary is a dictionary inside another dictionary.\n",
        "It's used to represent structured data like records or hierarchies.\n",
        "   ex-maintaing students record\n",
        "      students = {\"101\": {\"name\": \"Alice\", \"marks\": 85},\"102\": {\"name\": \"Bob\", \"marks\": 90}}\n",
        "\n",
        "17]  Describe the time complexity of accessing elements in a dictionary\n",
        "- With the Hashing concept, accessing elements in a dictionary has average-case time complexity of O(1) (constant time)\n",
        "Worst case is O(n) (rare chance)\n",
        "\n",
        "18]  In what situations are lists preferred over dictionaries\n",
        "- Use lists when:\n",
        "\n",
        "    -Order of items matters\n",
        "\n",
        "    -You access elements by position (index)\n",
        "\n",
        "    -You have a collection of values, not key-value pairs\n",
        "\n",
        "    -Simpler, sequential data is involved (e.g., names, numbers)\n",
        "\n",
        "19] Why are dictionaries considered unordered, and how does that affect data retrieval\n",
        "- Dictionaries are considered unordered because they use hashing, not position, to store and retrieve keys. That means:\n",
        "\n",
        "    -Data retrieval by key is fast and unaffected.\n",
        "\n",
        "    -Iteration order is not guaranteed in older Python versions.\n",
        "\n",
        "20] Explain the difference between a list and a dictionary in terms of data retrieval.\n",
        "-  Lists are accessed by index (position-based). Here order matters — elements are stored in a specific sequence. Lists are ideal when data is sequential and accessed by position.\n",
        "- Dictionaries are accessed by key (name-based). No fixed order before Python 3.7. Ideal when data is labeled and accessed by identifiers.\n",
        "\n",
        "\n"
      ],
      "metadata": {
        "id": "Z4lJ4pCx-0i3"
      }
    },
    {
      "cell_type": "code",
      "source": [
        "# PRACTICAL QUESTIONS\n",
        "# 1]Write a code to create a string with your name and print it\n",
        "name=(\"abhishek\")\n",
        "print(name)"
      ],
      "metadata": {
        "colab": {
          "base_uri": "https://localhost:8080/"
        },
        "id": "5QgNrjyB8lZu",
        "outputId": "5204745f-aaed-410a-f04b-19278fc08865"
      },
      "execution_count": null,
      "outputs": [
        {
          "output_type": "stream",
          "name": "stdout",
          "text": [
            "abhishek\n"
          ]
        }
      ]
    },
    {
      "cell_type": "code",
      "source": [
        "# 2]Write a code to find the length of the string \"Hello World\"\n",
        "message=(\"Hello World\")\n",
        "print(len(message))"
      ],
      "metadata": {
        "colab": {
          "base_uri": "https://localhost:8080/"
        },
        "id": "RFwenu349Vrd",
        "outputId": "295e0732-d0b1-4cc8-c801-83230629380e"
      },
      "execution_count": null,
      "outputs": [
        {
          "output_type": "stream",
          "name": "stdout",
          "text": [
            "11\n"
          ]
        }
      ]
    },
    {
      "cell_type": "code",
      "source": [
        "# 3] Write a code to slice the first 3 characters from the string \"Python Programming\"\n",
        "message=(\"Python Programming\")\n",
        "print(message[0:3])"
      ],
      "metadata": {
        "colab": {
          "base_uri": "https://localhost:8080/"
        },
        "id": "se26XBhN9lzs",
        "outputId": "ec0ea46c-98bb-43e4-ff8c-405fedaa32ef"
      },
      "execution_count": null,
      "outputs": [
        {
          "output_type": "stream",
          "name": "stdout",
          "text": [
            "Pyt\n"
          ]
        }
      ]
    },
    {
      "cell_type": "code",
      "source": [
        "# 4] Write a code to convert the string \"hello\" to uppercaseP\n",
        "message=(\"hello\")\n",
        "b=message.upper()\n",
        "print(b)"
      ],
      "metadata": {
        "colab": {
          "base_uri": "https://localhost:8080/"
        },
        "id": "uZyvrLcU9wx8",
        "outputId": "25a1b35c-42c2-4211-ca8c-da5ef40f81de"
      },
      "execution_count": null,
      "outputs": [
        {
          "output_type": "stream",
          "name": "stdout",
          "text": [
            "HELLO\n"
          ]
        }
      ]
    },
    {
      "cell_type": "code",
      "source": [
        "# 5] Write a code to replace the word \"apple\" with \"orange\" in the string \"I like apple\n",
        "message=(\"I like apple\")\n",
        "b=message.replace(\"apple\",\"orange\")\n",
        "print(b)"
      ],
      "metadata": {
        "colab": {
          "base_uri": "https://localhost:8080/"
        },
        "id": "nR21JPeE-fCt",
        "outputId": "4bf014c5-6526-4e1c-a761-313c7f6cb420"
      },
      "execution_count": null,
      "outputs": [
        {
          "output_type": "stream",
          "name": "stdout",
          "text": [
            "I like orange\n"
          ]
        }
      ]
    },
    {
      "cell_type": "code",
      "source": [
        "# 6] Write a code to create a list with numbers 1 to 5 and print it\n",
        "numbers = list(range(1, 6))\n",
        "print(numbers)"
      ],
      "metadata": {
        "colab": {
          "base_uri": "https://localhost:8080/"
        },
        "id": "vZQzC6pY_EDk",
        "outputId": "1e2e8112-4411-4cfa-ba6b-62b3d6d9bc30"
      },
      "execution_count": null,
      "outputs": [
        {
          "output_type": "stream",
          "name": "stdout",
          "text": [
            "[1, 2, 3, 4, 5]\n"
          ]
        }
      ]
    },
    {
      "cell_type": "code",
      "source": [
        "#7] Write a code to append the number 10 to the list [1, 2, 3, 4]\n",
        "list=[1,2,3,4]\n",
        "list.append(10)\n",
        "print(list)"
      ],
      "metadata": {
        "colab": {
          "base_uri": "https://localhost:8080/"
        },
        "id": "-sAvGUovA3ut",
        "outputId": "0d537cbe-7db8-411c-b7fe-d90332704637"
      },
      "execution_count": null,
      "outputs": [
        {
          "output_type": "stream",
          "name": "stdout",
          "text": [
            "[1, 2, 3, 4, 10]\n"
          ]
        }
      ]
    },
    {
      "cell_type": "code",
      "source": [
        "#8] Write a code to remove the number 3 from the list [1, 2, 3, 4, 5]\n",
        "list=[1,2,3,4,5]\n",
        "list.remove(3)\n",
        "print(list)"
      ],
      "metadata": {
        "colab": {
          "base_uri": "https://localhost:8080/"
        },
        "id": "Gp_zDvkGCLpz",
        "outputId": "ba5536da-8d1e-4486-fa00-191090c24b6b"
      },
      "execution_count": null,
      "outputs": [
        {
          "output_type": "stream",
          "name": "stdout",
          "text": [
            "[1, 2, 4, 5]\n"
          ]
        }
      ]
    },
    {
      "cell_type": "code",
      "source": [
        "# 9]  Write a code to access the second element in the list ['a', 'b', 'c', 'd']\n",
        "list=['a','b','c','d']\n",
        "list[1]"
      ],
      "metadata": {
        "colab": {
          "base_uri": "https://localhost:8080/",
          "height": 36
        },
        "id": "JqRDXDXMCV3b",
        "outputId": "7601f803-5d88-4c1c-ce5b-09cf6eea596b"
      },
      "execution_count": null,
      "outputs": [
        {
          "output_type": "execute_result",
          "data": {
            "text/plain": [
              "'b'"
            ],
            "application/vnd.google.colaboratory.intrinsic+json": {
              "type": "string"
            }
          },
          "metadata": {},
          "execution_count": 4
        }
      ]
    },
    {
      "cell_type": "code",
      "source": [
        "# 10] Write a code to reverse the list [10, 20, 30, 40, 50].\n",
        "list1=[10,20,30,40,50]\n",
        "list1.reverse()\n",
        "print(list1)"
      ],
      "metadata": {
        "colab": {
          "base_uri": "https://localhost:8080/"
        },
        "id": "zSvZWLdmCpML",
        "outputId": "b36eb288-8107-4b8d-e854-0f664a5030fd"
      },
      "execution_count": null,
      "outputs": [
        {
          "output_type": "stream",
          "name": "stdout",
          "text": [
            "[50, 40, 30, 20, 10]\n"
          ]
        }
      ]
    },
    {
      "cell_type": "code",
      "source": [
        "# 11]  Write a code to create a tuple with the elements 100, 200, 300 and print it.\n",
        "tuple=(100,200,300)\n",
        "print(tuple)"
      ],
      "metadata": {
        "colab": {
          "base_uri": "https://localhost:8080/"
        },
        "id": "fMS_X7Y7DvLj",
        "outputId": "2c255e18-cae1-49b0-85f1-93fda2272b0b"
      },
      "execution_count": null,
      "outputs": [
        {
          "output_type": "stream",
          "name": "stdout",
          "text": [
            "(100, 200, 300)\n"
          ]
        }
      ]
    },
    {
      "cell_type": "code",
      "source": [
        "# 12] Write a code to access the second-to-last element of the tuple ('red', 'green', 'blue', 'yellow').\n",
        "tuple=('red','green','blue','yellow')\n",
        "tuple[2]"
      ],
      "metadata": {
        "colab": {
          "base_uri": "https://localhost:8080/",
          "height": 36
        },
        "id": "iiRcCI_mD9x6",
        "outputId": "455fbded-77a3-4a42-9913-54fe2b05e567"
      },
      "execution_count": null,
      "outputs": [
        {
          "output_type": "execute_result",
          "data": {
            "text/plain": [
              "'blue'"
            ],
            "application/vnd.google.colaboratory.intrinsic+json": {
              "type": "string"
            }
          },
          "metadata": {},
          "execution_count": 14
        }
      ]
    },
    {
      "cell_type": "code",
      "source": [
        "# 13]  Write a code to find the minimum number in the tuple (10, 20, 5, 15).\n",
        "tuple=(10,20,5,15)\n",
        "min(tuple)"
      ],
      "metadata": {
        "colab": {
          "base_uri": "https://localhost:8080/"
        },
        "id": "u0fUcbzmEeqz",
        "outputId": "cca3ab29-826e-486b-fede-b4882b1f74ab"
      },
      "execution_count": null,
      "outputs": [
        {
          "output_type": "execute_result",
          "data": {
            "text/plain": [
              "5"
            ]
          },
          "metadata": {},
          "execution_count": 15
        }
      ]
    },
    {
      "cell_type": "code",
      "source": [
        "# 14] Write a code to find the index of the element \"cat\" in the tuple ('dog', 'cat', 'rabbit').\n",
        "tuple=('dog','cat','rabbit')\n",
        "tuple.index('cat')"
      ],
      "metadata": {
        "colab": {
          "base_uri": "https://localhost:8080/"
        },
        "id": "Jy_oKBIkEqYK",
        "outputId": "2ad4dfaf-dd24-4622-80a6-0122316a269c"
      },
      "execution_count": null,
      "outputs": [
        {
          "output_type": "execute_result",
          "data": {
            "text/plain": [
              "1"
            ]
          },
          "metadata": {},
          "execution_count": 16
        }
      ]
    },
    {
      "cell_type": "code",
      "source": [
        "# 15]  Write a code to create a tuple containing three different fruits and check if \"kiwi\" is in it.\n",
        "tuple1=(\"apple\", \"kiwi\", \"orange\")\n",
        "if \"kiwi\" in tuple1:\n",
        "  print(\"yes, present\")\n",
        "else:\n",
        "  print(\"not present\")"
      ],
      "metadata": {
        "colab": {
          "base_uri": "https://localhost:8080/"
        },
        "id": "GEdW1uIqE1QS",
        "outputId": "35afb11a-197e-449f-cf1c-14e7bc104122"
      },
      "execution_count": null,
      "outputs": [
        {
          "output_type": "stream",
          "name": "stdout",
          "text": [
            "yes, present\n"
          ]
        }
      ]
    },
    {
      "cell_type": "code",
      "source": [
        "# 16] Write a code to create a set with the elements 'a', 'b', 'c' and print it.\n",
        "set1={'a','b','c'}\n",
        "print(set1)"
      ],
      "metadata": {
        "colab": {
          "base_uri": "https://localhost:8080/"
        },
        "id": "CaIf2whhLmkN",
        "outputId": "3fdf1bae-191e-43ac-d723-b873ef07717a"
      },
      "execution_count": 2,
      "outputs": [
        {
          "output_type": "stream",
          "name": "stdout",
          "text": [
            "{'a', 'c', 'b'}\n"
          ]
        }
      ]
    },
    {
      "cell_type": "code",
      "source": [
        "# 17] Write a code to clear all elements from the set {1, 2, 3, 4, 5}.\n",
        "set1={1,2,3,4,5}\n",
        "set1.clear()\n",
        "print(set1)"
      ],
      "metadata": {
        "colab": {
          "base_uri": "https://localhost:8080/"
        },
        "id": "YJ428pAoNBgN",
        "outputId": "258978db-a617-4350-a951-d6b516b78ec0"
      },
      "execution_count": 4,
      "outputs": [
        {
          "output_type": "stream",
          "name": "stdout",
          "text": [
            "set()\n"
          ]
        }
      ]
    },
    {
      "cell_type": "code",
      "source": [
        "# 18] Write a code to remove the element 4 from the set {1, 2, 3, 4}.\n",
        "set1={1,2,3,4}\n",
        "set1.remove(4)\n",
        "print(set1)"
      ],
      "metadata": {
        "colab": {
          "base_uri": "https://localhost:8080/"
        },
        "id": "JMgQbx5pNnKk",
        "outputId": "af22c12f-ceda-443c-d7d6-3ce9b38c4213"
      },
      "execution_count": 5,
      "outputs": [
        {
          "output_type": "stream",
          "name": "stdout",
          "text": [
            "{1, 2, 3}\n"
          ]
        }
      ]
    },
    {
      "cell_type": "code",
      "source": [
        "# 19] Write a code to find the union of two sets {1, 2, 3} and {3, 4, 5}\n",
        "set1={1,2,3}\n",
        "set2={3,4,5}\n",
        "set3=set1.union(set2)\n",
        "print(set3)"
      ],
      "metadata": {
        "colab": {
          "base_uri": "https://localhost:8080/"
        },
        "id": "ZoY9FqEGN7Az",
        "outputId": "42985ca7-4c96-49bc-9762-6a68913c6c1d"
      },
      "execution_count": 6,
      "outputs": [
        {
          "output_type": "stream",
          "name": "stdout",
          "text": [
            "{1, 2, 3, 4, 5}\n"
          ]
        }
      ]
    },
    {
      "cell_type": "code",
      "source": [
        "# 20] Write a code to find the intersection of two sets {1, 2, 3} and {2, 3, 4}\n",
        "set1={1,2,3}\n",
        "set2={2,3,4}\n",
        "set3=set1 & set2\n",
        "print(set3)"
      ],
      "metadata": {
        "colab": {
          "base_uri": "https://localhost:8080/"
        },
        "id": "4eZtA6raObQa",
        "outputId": "bbe67005-5e09-4a12-dcbe-aa55970b9867"
      },
      "execution_count": 8,
      "outputs": [
        {
          "output_type": "stream",
          "name": "stdout",
          "text": [
            "{2, 3}\n"
          ]
        }
      ]
    },
    {
      "cell_type": "code",
      "source": [
        "# 21] Write a code to create a dictionary with the keys \"name\", \"age\", and \"city\", and print it\n",
        "person={\n",
        "    \"name\":\"yashaswi\",\n",
        "    \"age\":24,\n",
        "    \"city\":\"mysore\"\n",
        "}\n",
        "print(person)\n"
      ],
      "metadata": {
        "colab": {
          "base_uri": "https://localhost:8080/"
        },
        "id": "fYbkIekrOzBh",
        "outputId": "a8253999-ce5d-4f58-8674-31cb803e4de5"
      },
      "execution_count": 9,
      "outputs": [
        {
          "output_type": "stream",
          "name": "stdout",
          "text": [
            "{'name': 'yashaswi', 'age': 24, 'city': 'mysore'}\n"
          ]
        }
      ]
    },
    {
      "cell_type": "code",
      "source": [
        "# 22] Write a code to add a new key-value pair \"country\": \"USA\" to the dictionary {'name': 'John', 'age': 25}.\n",
        "person={'name': 'John', 'age': 25}\n",
        "person[\"country\"]=\"USA\"\n",
        "print(person)"
      ],
      "metadata": {
        "colab": {
          "base_uri": "https://localhost:8080/"
        },
        "id": "nqAPEHWNPzFG",
        "outputId": "53ab5fba-3f38-4652-ce11-956ba93564f6"
      },
      "execution_count": 10,
      "outputs": [
        {
          "output_type": "stream",
          "name": "stdout",
          "text": [
            "{'name': 'John', 'age': 25, 'country': 'USA'}\n"
          ]
        }
      ]
    },
    {
      "cell_type": "code",
      "source": [
        " # 23] Write a code to access the value associated with the key \"name\" in the dictionary {'name': 'Alice', 'age': 30}\n",
        " person={'name': 'Alice', 'age': 30}\n",
        " person[\"name\"]"
      ],
      "metadata": {
        "colab": {
          "base_uri": "https://localhost:8080/",
          "height": 36
        },
        "id": "6ScDiMy0QHQn",
        "outputId": "0b69fda2-a479-4e95-d088-c2a4a8560fe5"
      },
      "execution_count": 11,
      "outputs": [
        {
          "output_type": "execute_result",
          "data": {
            "text/plain": [
              "'Alice'"
            ],
            "application/vnd.google.colaboratory.intrinsic+json": {
              "type": "string"
            }
          },
          "metadata": {},
          "execution_count": 11
        }
      ]
    },
    {
      "cell_type": "code",
      "source": [
        "# 24] Write a code to remove the key \"age\" from the dictionary {'name': 'Bob', 'age': 22, 'city': 'New York'}\n",
        "person={'name': 'Bob', 'age': 22, 'city': 'New York'}\n",
        "del person[\"age\"]\n",
        "print(person)"
      ],
      "metadata": {
        "colab": {
          "base_uri": "https://localhost:8080/"
        },
        "id": "1-GzPVOOQZr1",
        "outputId": "397151d5-5bb1-4bb1-c2f2-a978818f837d"
      },
      "execution_count": 12,
      "outputs": [
        {
          "output_type": "stream",
          "name": "stdout",
          "text": [
            "{'name': 'Bob', 'city': 'New York'}\n"
          ]
        }
      ]
    },
    {
      "cell_type": "code",
      "source": [
        "# 25]  Write a code to check if the key \"city\" exists in the dictionary {'name': 'Alice', 'city': 'Paris'}.\n",
        "person={'name': 'Alice', 'city': 'Paris'}\n",
        "if \"city\" in person:\n",
        "  print(\"present\")\n",
        "else:\n",
        "  print(\"not present\")"
      ],
      "metadata": {
        "colab": {
          "base_uri": "https://localhost:8080/"
        },
        "id": "-icjW7EBRJ7Z",
        "outputId": "63b4a5d6-77d0-4f5f-8cde-728c53e02570"
      },
      "execution_count": 13,
      "outputs": [
        {
          "output_type": "stream",
          "name": "stdout",
          "text": [
            "present\n"
          ]
        }
      ]
    },
    {
      "cell_type": "code",
      "source": [
        "# 26]  Write a code to create a list, a tuple, and a dictionary, and print them all.\n",
        "list1=[25,True,\"nigru\",598.24]\n",
        "tuple1=(\"Mango\",898,252.32)\n",
        "dict1={\"name\":\"Zayn\",\"age\":32,\"city\":\"paris\"}\n",
        "print(list1)\n",
        "print(tuple1)\n",
        "print(dict1)"
      ],
      "metadata": {
        "colab": {
          "base_uri": "https://localhost:8080/"
        },
        "id": "VfyiTfYkRWa1",
        "outputId": "c2db69c8-15bc-4fcc-e4b0-a05c71a2520f"
      },
      "execution_count": 15,
      "outputs": [
        {
          "output_type": "stream",
          "name": "stdout",
          "text": [
            "[25, True, 'nigru', 598.24]\n",
            "('Mango', 898, 252.32)\n",
            "{'name': 'Zayn', 'age': 32, 'city': 'paris'}\n"
          ]
        }
      ]
    },
    {
      "cell_type": "code",
      "source": [
        "# 27]  Write a code to create a list of 5 random numbers between 1 and 100, sort it in ascending order, and print the result.(replaced)\n",
        "list1=[25,898,6987,452,3]\n",
        "list1.sort()\n",
        "print(list1)"
      ],
      "metadata": {
        "colab": {
          "base_uri": "https://localhost:8080/"
        },
        "id": "eknfagSwTWgG",
        "outputId": "547c0a29-14e4-4ec0-853a-da028799ff18"
      },
      "execution_count": 17,
      "outputs": [
        {
          "output_type": "stream",
          "name": "stdout",
          "text": [
            "[3, 25, 452, 898, 6987]\n"
          ]
        }
      ]
    },
    {
      "cell_type": "code",
      "source": [
        "# 28]  Write a code to create a list with strings and print the element at the third index\n",
        "list1=[41,\"abish\",True,598.32,\"manish\"]\n",
        "print(list1[3])"
      ],
      "metadata": {
        "colab": {
          "base_uri": "https://localhost:8080/"
        },
        "id": "LlXmz4JYUWQ8",
        "outputId": "59eef47a-b431-4299-ac7d-b9c949163a16"
      },
      "execution_count": 20,
      "outputs": [
        {
          "output_type": "stream",
          "name": "stdout",
          "text": [
            "598.32\n"
          ]
        }
      ]
    },
    {
      "cell_type": "code",
      "source": [
        "# 29]  Write a code to combine two dictionaries into one and print the result.\n",
        "dict1={\"name\":\"arun\",\"age\":23}\n",
        "dict2={\"city\":\"mysore\",\"country\":\"india\"}\n",
        "dict3={**dict1,**dict2}\n",
        "print(dict3)"
      ],
      "metadata": {
        "colab": {
          "base_uri": "https://localhost:8080/"
        },
        "id": "A-9lEYH4VeG7",
        "outputId": "5e217e51-bea2-401b-e7a0-e713a2976571"
      },
      "execution_count": 21,
      "outputs": [
        {
          "output_type": "stream",
          "name": "stdout",
          "text": [
            "{'name': 'arun', 'age': 23, 'city': 'mysore', 'country': 'india'}\n"
          ]
        }
      ]
    },
    {
      "cell_type": "code",
      "source": [
        "# 30]  Write a code to convert a list of strings into a set.\n",
        "list1=[1,2,3,4,5]\n",
        "set1= set(list1)\n",
        "print(set1)"
      ],
      "metadata": {
        "colab": {
          "base_uri": "https://localhost:8080/"
        },
        "id": "ZcyBg3d4WQVw",
        "outputId": "242c3e0b-fd90-4595-db5c-37be5d122f70"
      },
      "execution_count": 23,
      "outputs": [
        {
          "output_type": "stream",
          "name": "stdout",
          "text": [
            "{1, 2, 3, 4, 5}\n"
          ]
        }
      ]
    }
  ]
}